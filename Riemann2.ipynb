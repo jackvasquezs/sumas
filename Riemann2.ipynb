{
 "cells": [
  {
   "cell_type": "markdown",
   "metadata": {},
   "source": [
    "# Integración mediante sumas de Riemman"
   ]
  },
  {
   "cell_type": "code",
   "execution_count": 14,
   "metadata": {},
   "outputs": [],
   "source": [
    "import numpy as np\n",
    "import matplotlib.pyplot as plt\n",
    "import sympy as sp"
   ]
  },
  {
   "cell_type": "markdown",
   "metadata": {},
   "source": [
    "# $$ \\int_0^1 x^2dx $$"
   ]
  },
  {
   "cell_type": "code",
   "execution_count": 15,
   "metadata": {},
   "outputs": [],
   "source": [
    "def riemannplot(f, a, b, ra, rb, n):\n",
    "    # f es la función \n",
    "    # a y b son los limites del eje x para graficar la funcion f\n",
    "    # ra y rb son los limites del intervalo en el eje x del que queremos calcular la suma\n",
    "    # n es el numero de rectangulos que calcularemos\n",
    "    puntox1=[0.6,0.6]\n",
    "    puntoy1=[0,0.35]\n",
    "    plt.plot(puntox1, puntoy1, linestyle=\"-\")\n",
    "    puntox2=[0.8,0.8]\n",
    "    puntoy2=[0,0.6]\n",
    "    plt.plot(puntox2, puntoy2, linestyle=\"-\")\n",
    "    paso = (b-a)/100\n",
    "    x = np.arange(a, b+paso, paso)\n",
    "    plt.plot(x, f(x), color='green')\n",
    "\n",
    "    delta_x = (rb-ra)/n\n",
    "    riemannx = np.arange(ra, rb, delta_x)\n",
    "    riemanny = f(riemannx)\n",
    "    riemann_sum = sum(riemanny*delta_x)\n",
    "\n",
    "    plt.bar(riemannx,riemanny,width=delta_x,alpha=0.5,facecolor='orange')\n",
    "    plt.xlabel('x')\n",
    "    plt.ylabel('f(x)')\n",
    "    plt.title('Suma izquierda de Riemann para f(x)')\n",
    "    plt.figtext(0.1,0.02, \"Suma de Riemann: \" + str(riemann_sum), color='r')\n",
    "    plt.show()\n",
    "\n",
    "def f(x):\n",
    "    return x**2"
   ]
  },
  {
   "cell_type": "code",
   "execution_count": 25,
   "metadata": {},
   "outputs": [
    {
     "data": {
      "image/png": "[encoded data removed]",
      "text/plain": [
       "<Figure size 432x288 with 1 Axes>"
      ]
     },
     "metadata": {
      "needs_background": "light"
     },
     "output_type": "display_data"
    }
   ],
   "source": [
    "riemannplot(f, 0, 1, 0, 1, 30)"
   ]
  },
  {
   "cell_type": "code",
   "execution_count": 22,
   "metadata": {},
   "outputs": [
    {
     "data": {
      "text/latex": [
       "$\\displaystyle \\frac{1}{3}$"
      ],
      "text/plain": [
       "1/3"
      ]
     },
     "execution_count": 22,
     "metadata": {},
     "output_type": "execute_result"
    }
   ],
   "source": [
    "import sympy as sp \n",
    "x = sp.Symbol('x') \n",
    "y=x*x \n",
    "sp.integrate(y,(x,0,1))"
   ]
  },
  {
   "cell_type": "markdown",
   "metadata": {},
   "source": [
    "$$T=N \\cdot m \\implies [N]=\\left[\\frac{J}{m}\\right]=\\left[\\frac{1kJ}{1km}\\right] \\implies \\frac{N}{100}=\\left[\\frac{1kJ}{100km}\\right]$$"
   ]
  },
  {
   "cell_type": "markdown",
   "metadata": {},
   "source": [
    "$$P=f \\cdot v$$"
   ]
  }
 ],
 "metadata": {
  "kernelspec": {
   "display_name": "Python 3",
   "language": "python",
   "name": "python3"
  },
  "language_info": {
   "codemirror_mode": {
    "name": "ipython",
    "version": 3
   },
   "file_extension": ".py",
   "mimetype": "text/x-python",
   "name": "python",
   "nbconvert_exporter": "python",
   "pygments_lexer": "ipython3",
   "version": "3.7.6"
  }
 },
 "nbformat": 4,
 "nbformat_minor": 4
}
